{
  "nbformat": 4,
  "nbformat_minor": 0,
  "metadata": {
    "colab": {
      "provenance": [],
      "authorship_tag": "ABX9TyOLjC8i2MBpvG6EeJ7SeETd",
      "include_colab_link": true
    },
    "kernelspec": {
      "name": "python3",
      "display_name": "Python 3"
    },
    "language_info": {
      "name": "python"
    }
  },
  "cells": [
    {
      "cell_type": "markdown",
      "metadata": {
        "id": "view-in-github",
        "colab_type": "text"
      },
      "source": [
        "<a href=\"https://colab.research.google.com/github/prosperjohn9/SetPrinter/blob/main/SetPrinter.ipynb\" target=\"_parent\"><img src=\"https://colab.research.google.com/assets/colab-badge.svg\" alt=\"Open In Colab\"/></a>"
      ]
    },
    {
      "cell_type": "markdown",
      "source": [
        "Write a program that reads integers from the user until -1 is entered.\n",
        "\n",
        "Once all the integers have been read, your program should print\n",
        "- all the integers entered,\n",
        "- in reverse order,  \n",
        "- except for -1,\n",
        "- by discarding the replicas.\n"
      ],
      "metadata": {
        "id": "eEk-2OEJaH0V"
      }
    },
    {
      "cell_type": "code",
      "execution_count": null,
      "metadata": {
        "colab": {
          "base_uri": "https://localhost:8080/"
        },
        "id": "LG375Tf_KFpy",
        "outputId": "f3f308c0-28c5-41f7-f1e8-b2126c6ca038"
      },
      "outputs": [
        {
          "output_type": "stream",
          "name": "stdout",
          "text": [
            "Please enter an integer (-1 to exit): 10\n",
            "Please enter an integer (-1 to exit): 9\n",
            "Please enter an integer (-1 to exit): 8\n",
            "Please enter an integer (-1 to exit): 7\n",
            "Please enter an integer (-1 to exit): 6\n",
            "Please enter an integer (-1 to exit): 5\n",
            "Please enter an integer (-1 to exit): 4\n",
            "Please enter an integer (-1 to exit): 3\n",
            "Please enter an integer (-1 to exit): 2\n",
            "Please enter an integer (-1 to exit): 1\n",
            "Please enter an integer (-1 to exit): 0\n",
            "Please enter an integer (-1 to exit): -1\n",
            "[0, 1, 2, 3, 4, 5, 6, 7, 8, 9, 10]\n"
          ]
        }
      ],
      "source": [
        "numList = [] # Create an empty list\n",
        "num = int(input(\"Please enter an integer (-1 to exit): \"))\n",
        "\n",
        "while num != -1: # Check whether sentinel value was entered\n",
        "  if num not in numList: # If not added already\n",
        "    numList.append(num) # Add to list\n",
        "  num = int(input(\"Please enter an integer (-1 to exit): \"))\n",
        "\n",
        "numList.reverse() # Reverse the elements of the list\n",
        "print(numList)"
      ]
    }
  ]
}